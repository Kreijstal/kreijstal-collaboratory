{
  "nbformat": 4,
  "nbformat_minor": 0,
  "metadata": {
    "colab": {
      "name": "fuwed.ipynb",
      "provenance": [],
      "toc_visible": true,
      "authorship_tag": "ABX9TyPWXW5q5Xl2RG0UtP7z3vLB",
      "include_colab_link": true
    },
    "kernelspec": {
      "name": "python3",
      "display_name": "Python 3"
    }
  },
  "cells": [
    {
      "cell_type": "markdown",
      "metadata": {
        "id": "view-in-github",
        "colab_type": "text"
      },
      "source": [
        "<a href=\"https://colab.research.google.com/github/Kreijstal/kreijstal-collaboratory/blob/master/fuwed.ipynb\" target=\"_parent\"><img src=\"https://colab.research.google.com/assets/colab-badge.svg\" alt=\"Open In Colab\"/></a>"
      ]
    },
    {
      "cell_type": "markdown",
      "metadata": {
        "id": "r70mpKCGzMp_",
        "colab_type": "text"
      },
      "source": [
        "# Manim on google collab?\n",
        "*Press ctrl f9 to run everything*\n",
        "\n",
        "or ![image.png](data:image/png;base64,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)\n",
        "\n",
        "why bother installing manim yourself when daddy google does it for you?\n",
        "\n",
        "this section installs and configures manim and other globals"
      ]
    },
    {
      "cell_type": "code",
      "metadata": {
        "id": "6oK_7J40F7eG",
        "colab_type": "code",
        "colab": {}
      },
      "source": [
        "!git clone https://github.com/3b1b/manim.git"
      ],
      "execution_count": 0,
      "outputs": []
    },
    {
      "cell_type": "code",
      "metadata": {
        "id": "VknU5ivEGMIu",
        "colab_type": "code",
        "colab": {}
      },
      "source": [
        "cd manim"
      ],
      "execution_count": 0,
      "outputs": []
    },
    {
      "cell_type": "code",
      "metadata": {
        "id": "f4qKIeb9HIjH",
        "colab_type": "code",
        "colab": {}
      },
      "source": [
        "!apt-get install -qqy --no-install-recommends \\\n",
        "        apt-utils \\\n",
        "        ffmpeg \\\n",
        "        sox \\\n",
        "        libcairo2-dev \\\n",
        "        texlive \\\n",
        "        texlive-fonts-extra \\\n",
        "        texlive-latex-extra \\\n",
        "        texlive-latex-recommended \\\n",
        "        texlive-science \\\n",
        "        tipa \\"
      ],
      "execution_count": 0,
      "outputs": []
    },
    {
      "cell_type": "code",
      "metadata": {
        "id": "zTBbMxSCHRez",
        "colab_type": "code",
        "colab": {}
      },
      "source": [
        "!python setup.py sdist"
      ],
      "execution_count": 0,
      "outputs": []
    },
    {
      "cell_type": "code",
      "metadata": {
        "id": "-QPC5opoLSaO",
        "colab_type": "code",
        "colab": {}
      },
      "source": [
        "!python -m pip install dist/manimlib*"
      ],
      "execution_count": 0,
      "outputs": []
    },
    {
      "cell_type": "code",
      "metadata": {
        "id": "lYFwUJLmMyUQ",
        "colab_type": "code",
        "colab": {}
      },
      "source": [
        "#pip3 install -q jupyter-manim"
      ],
      "execution_count": 0,
      "outputs": []
    },
    {
      "cell_type": "code",
      "metadata": {
        "id": "eRxVFH3sUKOI",
        "colab_type": "code",
        "colab": {}
      },
      "source": [
        "# Copyright 2017 Google Inc.\n",
        "#\n",
        "# Licensed under the Apache License, Version 2.0 (the \"License\");\n",
        "# you may not use this file except in compliance with the License.\n",
        "# You may obtain a copy of the License at\n",
        "#\n",
        "#     http://www.apache.org/licenses/LICENSE-2.0\n",
        "#\n",
        "# Unless required by applicable law or agreed to in writing, software\n",
        "# distributed under the License is distributed on an \"AS IS\" BASIS,\n",
        "# WITHOUT WARRANTIES OR CONDITIONS OF ANY KIND, either express or implied.\n",
        "# See the License for the specific language governing permissions and\n",
        "# limitations under the License.\n",
        "\"\"\"Colab-specific file helpers.\"\"\"\n",
        "\n",
        "from __future__ import absolute_import as _\n",
        "from __future__ import division as _\n",
        "from __future__ import print_function as _\n",
        "\n",
        "import base64 as _base64\n",
        "import collections as _collections\n",
        "import os as _os\n",
        "import socket as _socket\n",
        "import threading as _threading\n",
        "import uuid as _uuid\n",
        "\n",
        "import IPython as _IPython\n",
        "import portpicker as _portpicker\n",
        "import six as _six\n",
        "from six.moves import SimpleHTTPServer as _SimpleHTTPServer\n",
        "from six.moves import socketserver as _socketserver\n",
        "from six.moves import urllib as _urllib\n",
        "\n",
        "from google.colab import output as _output\n",
        "from IPython.display import display, HTML\n",
        "js = \"\"\"<div id=\\\"put\\\">\n",
        "<script>document.getElementById(\\\"put\\\").innerHTML=\\\"sup\\\"</script>\n",
        "\"\"\"\n",
        "\n",
        "def _get_unique_filename(filename):\n",
        "  if not _os.path.lexists(filename):\n",
        "    return filename\n",
        "  counter = 1\n",
        "  while True:\n",
        "    path, ext = _os.path.splitext(filename)\n",
        "    new_filename = '{} ({}){}'.format(path, counter, ext)\n",
        "    if not _os.path.lexists(new_filename):\n",
        "      return new_filename\n",
        "    counter += 1\n",
        "\n",
        "\n",
        "class _V6Server(_socketserver.TCPServer):\n",
        "  address_family = _socket.AF_INET6\n",
        "\n",
        "\n",
        "class _FileHandler(_SimpleHTTPServer.SimpleHTTPRequestHandler):\n",
        "  \"\"\"SimpleHTTPRequestHandler with a couple tweaks.\"\"\"\n",
        "\n",
        "  def translate_path(self, path):\n",
        "    # Client specifies absolute paths.\n",
        "    # TODO(b/79760241): Remove this spurious lint warning.\n",
        "    return _urllib.parse.unquote(path)  # pylint:disable=too-many-function-args\n",
        "\n",
        "  def log_message(self, fmt, *args):\n",
        "    # Suppress logging since it's on the background. Any errors will be reported\n",
        "    # via the handler.\n",
        "    pass\n",
        "\n",
        "  def end_headers(self):\n",
        "    # Do not cache the response in the notebook, since it may be quite large.\n",
        "    self.send_header('x-colab-notebook-cache-control', 'no-cache')\n",
        "    _SimpleHTTPServer.SimpleHTTPRequestHandler.end_headers(self)\n",
        "\n",
        "\n",
        "def download(filename):\n",
        "  \"\"\"Downloads the file to the user's local disk via a browser download action.\n",
        "  Args:\n",
        "    filename: Name of the file on disk to be downloaded.\n",
        "  Raises:\n",
        "    OSError: if the file cannot be found.\n",
        "  \"\"\"\n",
        "\n",
        "  if not _os.path.exists(filename):\n",
        "    msg = 'Cannot find file: {}'.format(filename)\n",
        "    if _six.PY2:\n",
        "      raise OSError(msg)\n",
        "    else:\n",
        "      raise FileNotFoundError(msg)  # pylint: disable=undefined-variable\n",
        "\n",
        "  started = _threading.Event()\n",
        "  port = _portpicker.pick_unused_port()\n",
        "\n",
        "  def server_entry():\n",
        "    httpd = _V6Server(('::', port), _FileHandler)\n",
        "    started.set()\n",
        "    # Handle a single request then exit the thread.\n",
        "    httpd.handle_request()\n",
        "\n",
        "  thread = _threading.Thread(target=server_entry)\n",
        "  thread.start()\n",
        "  started.wait()\n",
        "  display(HTML( (\"\"\"\n",
        "  <div id=\\\"put\\\">Wait for the video to load/download</div><script>\n",
        "      (async function() {\n",
        "        const response = await fetch('https://localhost:%(port)d%(path)s');\n",
        "        if (!response.ok) {\n",
        "          throw new Error('Failed to download: ' + response.statusText);\n",
        "        }\n",
        "        const blob = await response.blob();\n",
        "        const a = document.createElement('a');\n",
        "        a.href = window.URL.createObjectURL(blob);\n",
        "        a.download = '%(name)s';\n",
        "        a.innerHTML=\"download file here\"\n",
        "        document.getElementById(\"put\").innerHTML=`<video width=\"960\" height=\"720\" controls>\n",
        "  <source src=\"${a.href}\" type=\"video/mp4\">\n",
        "</video>`\n",
        "        document.getElementById(\"put\").appendChild(a);\n",
        "        //document.write(a);\n",
        "        //a.click();\n",
        "        //a.remove();\n",
        "      })();\n",
        "      </script>\n",
        "  \"\"\" % {\n",
        "      'port': port,\n",
        "      'path': _os.path.abspath(filename),\n",
        "      'name': _os.path.basename(filename),\n",
        "  })))\n"
      ],
      "execution_count": 0,
      "outputs": []
    },
    {
      "cell_type": "markdown",
      "metadata": {
        "id": "cCNQ8z-Z00hu",
        "colab_type": "text"
      },
      "source": [
        "# Running manim from collab\n",
        "I called manim.py and just did it"
      ]
    },
    {
      "cell_type": "code",
      "metadata": {
        "id": "J-8Hn63qLZJD",
        "colab_type": "code",
        "colab": {}
      },
      "source": [
        "!python manim.py example_scenes.py OpeningManimExample"
      ],
      "execution_count": 0,
      "outputs": []
    },
    {
      "cell_type": "code",
      "metadata": {
        "id": "xDmNP-z8Varo",
        "colab_type": "code",
        "outputId": "e256d98e-ac1c-4bca-9b71-f0d30482d8a0",
        "colab": {
          "base_uri": "https://localhost:8080/",
          "height": 740
        }
      },
      "source": [
        "download(\"media/videos/example_scenes/1440p60/OpeningManimExample.mp4\")"
      ],
      "execution_count": 0,
      "outputs": [
        {
          "output_type": "display_data",
          "data": {
            "text/html": [
              "\n",
              "  <div id=\"put\">Wait for the video to load/download</div><script>\n",
              "      (async function() {\n",
              "        const response = await fetch('https://localhost:15164/content/manim/media/videos/example_scenes/1440p60/OpeningManimExample.mp4');\n",
              "        if (!response.ok) {\n",
              "          throw new Error('Failed to download: ' + response.statusText);\n",
              "        }\n",
              "        const blob = await response.blob();\n",
              "        const a = document.createElement('a');\n",
              "        a.href = window.URL.createObjectURL(blob);\n",
              "        a.download = 'OpeningManimExample.mp4';\n",
              "        a.innerHTML=\"download file here\"\n",
              "        document.getElementById(\"put\").innerHTML=`<video width=\"960\" height=\"720\" controls>\n",
              "  <source src=\"${a.href}\" type=\"video/mp4\">\n",
              "</video>`\n",
              "        document.getElementById(\"put\").appendChild(a);\n",
              "        //document.write(a);\n",
              "        //a.click();\n",
              "        //a.remove();\n",
              "      })();\n",
              "      </script>\n",
              "  "
            ],
            "text/plain": [
              "<IPython.core.display.HTML object>"
            ]
          },
          "metadata": {
            "tags": []
          }
        }
      ]
    },
    {
      "cell_type": "code",
      "metadata": {
        "id": "5iM1noQV0iCJ",
        "colab_type": "code",
        "colab": {}
      },
      "source": [
        ""
      ],
      "execution_count": 0,
      "outputs": []
    }
  ]
}